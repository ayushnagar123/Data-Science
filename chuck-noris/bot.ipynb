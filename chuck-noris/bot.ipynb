{
 "cells": [
  {
   "cell_type": "code",
   "execution_count": 8,
   "metadata": {},
   "outputs": [],
   "source": [
    "from urllib.request import urlopen\n",
    "import requests\n",
    "import json\n",
    "import pandas as pd"
   ]
  },
  {
   "cell_type": "code",
   "execution_count": 9,
   "metadata": {},
   "outputs": [],
   "source": [
    "url = \"http://api.icndb.com/jokes\""
   ]
  },
  {
   "cell_type": "code",
   "execution_count": 10,
   "metadata": {},
   "outputs": [],
   "source": [
    "url_result = urlopen(url)\n",
    "data = url_result.read()"
   ]
  },
  {
   "cell_type": "code",
   "execution_count": 11,
   "metadata": {},
   "outputs": [],
   "source": [
    "json_data = json.loads(data)"
   ]
  },
  {
   "cell_type": "code",
   "execution_count": 12,
   "metadata": {},
   "outputs": [],
   "source": [
    "res=json_data['value']"
   ]
  },
  {
   "cell_type": "code",
   "execution_count": 13,
   "metadata": {},
   "outputs": [],
   "source": [
    "head=\"\"\n",
    "j=res[0]\n",
    "for i,header in enumerate(j.keys()):\n",
    "    if(i<len(j)-2):\n",
    "        head+=header+', '\n",
    "    else:\n",
    "        if(',' in header):\n",
    "            header='\"'+header+'\"'\n",
    "        head+=header\n",
    "        break"
   ]
  },
  {
   "cell_type": "code",
   "execution_count": 14,
   "metadata": {},
   "outputs": [],
   "source": [
    "with open('jokes.csv','w') as file:\n",
    "    file.write(head+'\\n')\n",
    "    for i in list(res):\n",
    "        data=\"\"\n",
    "        for k,val in enumerate(i.values()):\n",
    "            if(k<len(i)-2):\n",
    "                data+=str(val)+','\n",
    "            else:\n",
    "                if(',' in val):\n",
    "                    val = '\"'+val+'\"'\n",
    "                data+=str(val)\n",
    "                break\n",
    "        file.write(data+'\\n')"
   ]
  },
  {
   "cell_type": "code",
   "execution_count": null,
   "metadata": {},
   "outputs": [],
   "source": []
  },
  {
   "cell_type": "code",
   "execution_count": 15,
   "metadata": {},
   "outputs": [],
   "source": [
    "df = pd.read_csv('jokes.csv')"
   ]
  },
  {
   "cell_type": "code",
   "execution_count": 18,
   "metadata": {},
   "outputs": [
    {
     "name": "stdout",
     "output_type": "stream",
     "text": [
      "http://api.icndb.com/jokes/5\n",
      "If you ask Chuck Norris what time it is, he always answers &quot;Two seconds till&quot;. After you ask &quot;Two seconds to what?&quot;, he roundhouse kicks you in the face.\n"
     ]
    }
   ],
   "source": [
    "l=len(res)\n",
    "url_input = input()\n",
    "\n",
    "df = pd.read_csv('jokes.csv')\n",
    "\n",
    "for i in range(l):\n",
    "    url_check=url+'/'+str(df.iloc[i][0])\n",
    "    if(url_input==url_check):\n",
    "        print(df.iloc[3][1])\n",
    "        break"
   ]
  },
  {
   "cell_type": "code",
   "execution_count": null,
   "metadata": {},
   "outputs": [],
   "source": []
  },
  {
   "cell_type": "code",
   "execution_count": null,
   "metadata": {},
   "outputs": [],
   "source": []
  },
  {
   "cell_type": "code",
   "execution_count": null,
   "metadata": {},
   "outputs": [],
   "source": []
  },
  {
   "cell_type": "code",
   "execution_count": null,
   "metadata": {},
   "outputs": [],
   "source": []
  }
 ],
 "metadata": {
  "kernelspec": {
   "display_name": "Python 3",
   "language": "python",
   "name": "python3"
  },
  "language_info": {
   "codemirror_mode": {
    "name": "ipython",
    "version": 3
   },
   "file_extension": ".py",
   "mimetype": "text/x-python",
   "name": "python",
   "nbconvert_exporter": "python",
   "pygments_lexer": "ipython3",
   "version": "3.6.8"
  }
 },
 "nbformat": 4,
 "nbformat_minor": 2
}
