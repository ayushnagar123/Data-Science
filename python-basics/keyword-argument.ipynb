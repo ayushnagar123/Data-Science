{
 "cells": [
  {
   "cell_type": "code",
   "execution_count": 1,
   "metadata": {},
   "outputs": [
    {
     "name": "stdout",
     "output_type": "stream",
     "text": [
      "I scored 10 in python\n",
      "1010\n"
     ]
    }
   ],
   "source": [
    "def fun(score,lang,roll):\n",
    "    print(\"I scored %d in %s\"%(score,lang))\n",
    "    print(roll)\n",
    "fun(roll=1010,lang=\"python\",score=10)"
   ]
  },
  {
   "cell_type": "code",
   "execution_count": 2,
   "metadata": {},
   "outputs": [
    {
     "name": "stdout",
     "output_type": "stream",
     "text": [
      "I scored 10 in python\n",
      "1010\n",
      "hey world+"
     ]
    }
   ],
   "source": [
    "def fun(score,lang,roll):\n",
    "    print(\"I scored %d in %s\"%(score,lang))\n",
    "    print(roll)\n",
    "fun(roll=1010,lang=\"python\",score=10)\n",
    "print(\"hey\",\"world\",end=\"+\")"
   ]
  },
  {
   "cell_type": "code",
   "execution_count": 3,
   "metadata": {},
   "outputs": [
    {
     "ename": "SyntaxError",
     "evalue": "positional argument follows keyword argument (<ipython-input-3-ee454c54f63c>, line 5)",
     "output_type": "error",
     "traceback": [
      "\u001b[0;36m  File \u001b[0;32m\"<ipython-input-3-ee454c54f63c>\"\u001b[0;36m, line \u001b[0;32m5\u001b[0m\n\u001b[0;31m    print(end=\"+\",\"hey\",\"world\")\u001b[0m\n\u001b[0m                 ^\u001b[0m\n\u001b[0;31mSyntaxError\u001b[0m\u001b[0;31m:\u001b[0m positional argument follows keyword argument\n"
     ]
    }
   ],
   "source": [
    "def fun(score,lang,roll):\n",
    "    print(\"I scored %d in %s\"%(score,lang))\n",
    "    print(roll)\n",
    "fun(roll=1010,lang=\"python\",score=10)\n",
    "print(end=\"+\",\"hey\",\"world\")"
   ]
  },
  {
   "cell_type": "code",
   "execution_count": null,
   "metadata": {},
   "outputs": [],
   "source": []
  }
 ],
 "metadata": {
  "kernelspec": {
   "display_name": "Python 3",
   "language": "python",
   "name": "python3"
  },
  "language_info": {
   "codemirror_mode": {
    "name": "ipython",
    "version": 3
   },
   "file_extension": ".py",
   "mimetype": "text/x-python",
   "name": "python",
   "nbconvert_exporter": "python",
   "pygments_lexer": "ipython3",
   "version": "3.6.7"
  }
 },
 "nbformat": 4,
 "nbformat_minor": 2
}
