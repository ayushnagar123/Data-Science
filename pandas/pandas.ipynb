{
 "cells": [
  {
   "cell_type": "code",
   "execution_count": 6,
   "metadata": {},
   "outputs": [],
   "source": [
    "import pandas as pd\n",
    "df = pd.read_csv('./mnist_train.csv')"
   ]
  },
  {
   "cell_type": "code",
   "execution_count": 7,
   "metadata": {},
   "outputs": [
    {
     "data": {
      "text/plain": [
       "(42000, 785)"
      ]
     },
     "execution_count": 7,
     "metadata": {},
     "output_type": "execute_result"
    }
   ],
   "source": [
    "df.shape"
   ]
  },
  {
   "cell_type": "code",
   "execution_count": 8,
   "metadata": {},
   "outputs": [
    {
     "data": {
      "text/plain": [
       "Index(['label', 'pixel0', 'pixel1', 'pixel2', 'pixel3', 'pixel4', 'pixel5',\n",
       "       'pixel6', 'pixel7', 'pixel8',\n",
       "       ...\n",
       "       'pixel774', 'pixel775', 'pixel776', 'pixel777', 'pixel778', 'pixel779',\n",
       "       'pixel780', 'pixel781', 'pixel782', 'pixel783'],\n",
       "      dtype='object', length=785)"
      ]
     },
     "execution_count": 8,
     "metadata": {},
     "output_type": "execute_result"
    }
   ],
   "source": [
    "df.columns"
   ]
  },
  {
   "cell_type": "code",
   "execution_count": 9,
   "metadata": {},
   "outputs": [
    {
     "data": {
      "text/html": [
       "<div>\n",
       "<style scoped>\n",
       "    .dataframe tbody tr th:only-of-type {\n",
       "        vertical-align: middle;\n",
       "    }\n",
       "\n",
       "    .dataframe tbody tr th {\n",
       "        vertical-align: top;\n",
       "    }\n",
       "\n",
       "    .dataframe thead th {\n",
       "        text-align: right;\n",
       "    }\n",
       "</style>\n",
       "<table border=\"1\" class=\"dataframe\">\n",
       "  <thead>\n",
       "    <tr style=\"text-align: right;\">\n",
       "      <th></th>\n",
       "      <th>label</th>\n",
       "      <th>pixel0</th>\n",
       "      <th>pixel1</th>\n",
       "      <th>pixel2</th>\n",
       "      <th>pixel3</th>\n",
       "      <th>pixel4</th>\n",
       "      <th>pixel5</th>\n",
       "      <th>pixel6</th>\n",
       "      <th>pixel7</th>\n",
       "      <th>pixel8</th>\n",
       "      <th>...</th>\n",
       "      <th>pixel774</th>\n",
       "      <th>pixel775</th>\n",
       "      <th>pixel776</th>\n",
       "      <th>pixel777</th>\n",
       "      <th>pixel778</th>\n",
       "      <th>pixel779</th>\n",
       "      <th>pixel780</th>\n",
       "      <th>pixel781</th>\n",
       "      <th>pixel782</th>\n",
       "      <th>pixel783</th>\n",
       "    </tr>\n",
       "  </thead>\n",
       "  <tbody>\n",
       "    <tr>\n",
       "      <td>0</td>\n",
       "      <td>1</td>\n",
       "      <td>0</td>\n",
       "      <td>0</td>\n",
       "      <td>0</td>\n",
       "      <td>0</td>\n",
       "      <td>0</td>\n",
       "      <td>0</td>\n",
       "      <td>0</td>\n",
       "      <td>0</td>\n",
       "      <td>0</td>\n",
       "      <td>...</td>\n",
       "      <td>0</td>\n",
       "      <td>0</td>\n",
       "      <td>0</td>\n",
       "      <td>0</td>\n",
       "      <td>0</td>\n",
       "      <td>0</td>\n",
       "      <td>0</td>\n",
       "      <td>0</td>\n",
       "      <td>0</td>\n",
       "      <td>0</td>\n",
       "    </tr>\n",
       "    <tr>\n",
       "      <td>1</td>\n",
       "      <td>0</td>\n",
       "      <td>0</td>\n",
       "      <td>0</td>\n",
       "      <td>0</td>\n",
       "      <td>0</td>\n",
       "      <td>0</td>\n",
       "      <td>0</td>\n",
       "      <td>0</td>\n",
       "      <td>0</td>\n",
       "      <td>0</td>\n",
       "      <td>...</td>\n",
       "      <td>0</td>\n",
       "      <td>0</td>\n",
       "      <td>0</td>\n",
       "      <td>0</td>\n",
       "      <td>0</td>\n",
       "      <td>0</td>\n",
       "      <td>0</td>\n",
       "      <td>0</td>\n",
       "      <td>0</td>\n",
       "      <td>0</td>\n",
       "    </tr>\n",
       "    <tr>\n",
       "      <td>2</td>\n",
       "      <td>1</td>\n",
       "      <td>0</td>\n",
       "      <td>0</td>\n",
       "      <td>0</td>\n",
       "      <td>0</td>\n",
       "      <td>0</td>\n",
       "      <td>0</td>\n",
       "      <td>0</td>\n",
       "      <td>0</td>\n",
       "      <td>0</td>\n",
       "      <td>...</td>\n",
       "      <td>0</td>\n",
       "      <td>0</td>\n",
       "      <td>0</td>\n",
       "      <td>0</td>\n",
       "      <td>0</td>\n",
       "      <td>0</td>\n",
       "      <td>0</td>\n",
       "      <td>0</td>\n",
       "      <td>0</td>\n",
       "      <td>0</td>\n",
       "    </tr>\n",
       "    <tr>\n",
       "      <td>3</td>\n",
       "      <td>4</td>\n",
       "      <td>0</td>\n",
       "      <td>0</td>\n",
       "      <td>0</td>\n",
       "      <td>0</td>\n",
       "      <td>0</td>\n",
       "      <td>0</td>\n",
       "      <td>0</td>\n",
       "      <td>0</td>\n",
       "      <td>0</td>\n",
       "      <td>...</td>\n",
       "      <td>0</td>\n",
       "      <td>0</td>\n",
       "      <td>0</td>\n",
       "      <td>0</td>\n",
       "      <td>0</td>\n",
       "      <td>0</td>\n",
       "      <td>0</td>\n",
       "      <td>0</td>\n",
       "      <td>0</td>\n",
       "      <td>0</td>\n",
       "    </tr>\n",
       "    <tr>\n",
       "      <td>4</td>\n",
       "      <td>0</td>\n",
       "      <td>0</td>\n",
       "      <td>0</td>\n",
       "      <td>0</td>\n",
       "      <td>0</td>\n",
       "      <td>0</td>\n",
       "      <td>0</td>\n",
       "      <td>0</td>\n",
       "      <td>0</td>\n",
       "      <td>0</td>\n",
       "      <td>...</td>\n",
       "      <td>0</td>\n",
       "      <td>0</td>\n",
       "      <td>0</td>\n",
       "      <td>0</td>\n",
       "      <td>0</td>\n",
       "      <td>0</td>\n",
       "      <td>0</td>\n",
       "      <td>0</td>\n",
       "      <td>0</td>\n",
       "      <td>0</td>\n",
       "    </tr>\n",
       "  </tbody>\n",
       "</table>\n",
       "<p>5 rows × 785 columns</p>\n",
       "</div>"
      ],
      "text/plain": [
       "   label  pixel0  pixel1  pixel2  pixel3  pixel4  pixel5  pixel6  pixel7  \\\n",
       "0      1       0       0       0       0       0       0       0       0   \n",
       "1      0       0       0       0       0       0       0       0       0   \n",
       "2      1       0       0       0       0       0       0       0       0   \n",
       "3      4       0       0       0       0       0       0       0       0   \n",
       "4      0       0       0       0       0       0       0       0       0   \n",
       "\n",
       "   pixel8  ...  pixel774  pixel775  pixel776  pixel777  pixel778  pixel779  \\\n",
       "0       0  ...         0         0         0         0         0         0   \n",
       "1       0  ...         0         0         0         0         0         0   \n",
       "2       0  ...         0         0         0         0         0         0   \n",
       "3       0  ...         0         0         0         0         0         0   \n",
       "4       0  ...         0         0         0         0         0         0   \n",
       "\n",
       "   pixel780  pixel781  pixel782  pixel783  \n",
       "0         0         0         0         0  \n",
       "1         0         0         0         0  \n",
       "2         0         0         0         0  \n",
       "3         0         0         0         0  \n",
       "4         0         0         0         0  \n",
       "\n",
       "[5 rows x 785 columns]"
      ]
     },
     "execution_count": 9,
     "metadata": {},
     "output_type": "execute_result"
    }
   ],
   "source": [
    "df.head(n=5)"
   ]
  },
  {
   "cell_type": "code",
   "execution_count": 11,
   "metadata": {},
   "outputs": [
    {
     "name": "stdout",
     "output_type": "stream",
     "text": [
      "<class 'pandas.core.frame.DataFrame'>\n"
     ]
    }
   ],
   "source": [
    "print(type(df))"
   ]
  },
  {
   "cell_type": "code",
   "execution_count": 12,
   "metadata": {},
   "outputs": [],
   "source": [
    "data = df.values"
   ]
  },
  {
   "cell_type": "code",
   "execution_count": 13,
   "metadata": {},
   "outputs": [
    {
     "name": "stdout",
     "output_type": "stream",
     "text": [
      "<class 'numpy.ndarray'>\n"
     ]
    }
   ],
   "source": [
    "print(type(data))"
   ]
  },
  {
   "cell_type": "code",
   "execution_count": 15,
   "metadata": {},
   "outputs": [
    {
     "name": "stdout",
     "output_type": "stream",
     "text": [
      "[[0 0 0 ... 0 0 0]\n",
      " [0 0 0 ... 0 0 0]\n",
      " [0 0 0 ... 0 0 0]\n",
      " ...\n",
      " [0 0 0 ... 0 0 0]\n",
      " [0 0 0 ... 0 0 0]\n",
      " [0 0 0 ... 0 0 0]]\n",
      "[1 0 1 ... 7 6 9]\n"
     ]
    }
   ],
   "source": [
    "x = data[:,1:]\n",
    "y = data[:,0]\n",
    "print(x)\n",
    "print(y)"
   ]
  },
  {
   "cell_type": "code",
   "execution_count": 18,
   "metadata": {},
   "outputs": [
    {
     "name": "stdout",
     "output_type": "stream",
     "text": [
      "[[  0   0   0   0   0   0   0   0   0   0   0   0   0   0   0   0   0   0\n",
      "    0   0   0   0   0   0   0   0   0   0]\n",
      " [  0   0   0   0   0   0   0   0   0   0   0   0   0   0   0   0   0   0\n",
      "    0   0   0   0   0   0   0   0   0   0]\n",
      " [  0   0   0   0   0   0   0   0   0   0   0   0   0   0   0   0   0   0\n",
      "    0   0   0   0   0   0   0   0   0   0]\n",
      " [  0   0   0   0   0   0   0   0   0   0   0   0   0   0   0   0   0   0\n",
      "    0   0   0   0   0   0   0   0   0   0]\n",
      " [  0   0   0   0   0   0   0   0   0   0   0   0   0   0   0   0   0   0\n",
      "    0   0   0   0   0   0   0   0   0   0]\n",
      " [  0   0   0   0   0   0 220 179   6   0   0   0   0   0   0   0   0   9\n",
      "   77   0   0   0   0   0   0   0   0   0]\n",
      " [  0   0   0   0   0   0  28 247  17   0   0   0   0   0   0   0   0  27\n",
      "  202   0   0   0   0   0   0   0   0   0]\n",
      " [  0   0   0   0   0   0   0 242 155   0   0   0   0   0   0   0   0  27\n",
      "  254  63   0   0   0   0   0   0   0   0]\n",
      " [  0   0   0   0   0   0   0 160 207   6   0   0   0   0   0   0   0  27\n",
      "  254  65   0   0   0   0   0   0   0   0]\n",
      " [  0   0   0   0   0   0   0 127 254  21   0   0   0   0   0   0   0  20\n",
      "  239  65   0   0   0   0   0   0   0   0]\n",
      " [  0   0   0   0   0   0   0  77 254  21   0   0   0   0   0   0   0   0\n",
      "  195  65   0   0   0   0   0   0   0   0]\n",
      " [  0   0   0   0   0   0   0  70 254  21   0   0   0   0   0   0   0   0\n",
      "  195 142   0   0   0   0   0   0   0   0]\n",
      " [  0   0   0   0   0   0   0  56 251  21   0   0   0   0   0   0   0   0\n",
      "  195 227   0   0   0   0   0   0   0   0]\n",
      " [  0   0   0   0   0   0   0   0 222 153   5   0   0   0   0   0   0   0\n",
      "  120 240  13   0   0   0   0   0   0   0]\n",
      " [  0   0   0   0   0   0   0   0  67 251  40   0   0   0   0   0   0   0\n",
      "   94 255  69   0   0   0   0   0   0   0]\n",
      " [  0   0   0   0   0   0   0   0   0 234 184   0   0   0   0   0   0   0\n",
      "   19 245  69   0   0   0   0   0   0   0]\n",
      " [  0   0   0   0   0   0   0   0   0 234 169   0   0   0   0   0   0   0\n",
      "    3 199 182  10   0   0   0   0   0   0]\n",
      " [  0   0   0   0   0   0   0   0   0 154 205   4   0   0  26  72 128 203\n",
      "  208 254 254 131   0   0   0   0   0   0]\n",
      " [  0   0   0   0   0   0   0   0   0  61 254 129 113 186 245 251 189  75\n",
      "   56 136 254  73   0   0   0   0   0   0]\n",
      " [  0   0   0   0   0   0   0   0   0  15 216 233 233 159 104  52   0   0\n",
      "    0  38 254  73   0   0   0   0   0   0]\n",
      " [  0   0   0   0   0   0   0   0   0   0   0   0   0   0   0   0   0   0\n",
      "    0  18 254  73   0   0   0   0   0   0]\n",
      " [  0   0   0   0   0   0   0   0   0   0   0   0   0   0   0   0   0   0\n",
      "    0  18 254  73   0   0   0   0   0   0]\n",
      " [  0   0   0   0   0   0   0   0   0   0   0   0   0   0   0   0   0   0\n",
      "    0   5 206 106   0   0   0   0   0   0]\n",
      " [  0   0   0   0   0   0   0   0   0   0   0   0   0   0   0   0   0   0\n",
      "    0   0 186 159   0   0   0   0   0   0]\n",
      " [  0   0   0   0   0   0   0   0   0   0   0   0   0   0   0   0   0   0\n",
      "    0   6 209 101   0   0   0   0   0   0]\n",
      " [  0   0   0   0   0   0   0   0   0   0   0   0   0   0   0   0   0   0\n",
      "    0   0   0   0   0   0   0   0   0   0]\n",
      " [  0   0   0   0   0   0   0   0   0   0   0   0   0   0   0   0   0   0\n",
      "    0   0   0   0   0   0   0   0   0   0]\n",
      " [  0   0   0   0   0   0   0   0   0   0   0   0   0   0   0   0   0   0\n",
      "    0   0   0   0   0   0   0   0   0   0]]\n"
     ]
    }
   ],
   "source": [
    "img = x[3].reshape((28,28))\n",
    "print(img)"
   ]
  },
  {
   "cell_type": "code",
   "execution_count": 22,
   "metadata": {},
   "outputs": [
    {
     "name": "stdout",
     "output_type": "stream",
     "text": [
      "4\n"
     ]
    },
    {
     "data": {
      "image/png": "[encoded data removed]",
      "text/plain": [
       "<Figure size 432x288 with 1 Axes>"
      ]
     },
     "metadata": {
      "needs_background": "light"
     },
     "output_type": "display_data"
    }
   ],
   "source": [
    "import matplotlib.pyplot as plt\n",
    "plt.imshow(img,cmap='gray')\n",
    "print(y[3])\n",
    "plt.show()"
   ]
  },
  {
   "cell_type": "code",
   "execution_count": 25,
   "metadata": {},
   "outputs": [
    {
     "name": "stdout",
     "output_type": "stream",
     "text": [
      "(33600, 784) (33600,)\n",
      "(8400, 784) (8400,)\n"
     ]
    }
   ],
   "source": [
    "# train and test\n",
    "split = int(0.8*x.shape[0])\n",
    "x_train,y_train = x[:split,:],y[:split]\n",
    "print(x_train.shape,y_train.shape)\n",
    "x_test,y_test = x[split:,:],y[split:]\n",
    "print(x_test.shape,y_test.shape)"
   ]
  },
  {
   "cell_type": "markdown",
   "metadata": {},
   "source": [
    "# scikit Split"
   ]
  },
  {
   "cell_type": "code",
   "execution_count": 26,
   "metadata": {},
   "outputs": [],
   "source": [
    "from sklearn.model_selection import train_test_split"
   ]
  },
  {
   "cell_type": "code",
   "execution_count": 37,
   "metadata": {},
   "outputs": [],
   "source": [
    "# T=> train, t=> test\n",
    "XT,Xt,YT,Yt=train_test_split(x,y,test_size = 0.2)"
   ]
  },
  {
   "cell_type": "code",
   "execution_count": 38,
   "metadata": {},
   "outputs": [
    {
     "name": "stdout",
     "output_type": "stream",
     "text": [
      "(33600, 784) (33600,)\n",
      "(8400, 784) (8400,)\n"
     ]
    }
   ],
   "source": [
    "print(XT.shape,YT.shape)\n",
    "print(Xt.shape,Yt.shape)"
   ]
  },
  {
   "cell_type": "code",
   "execution_count": 39,
   "metadata": {},
   "outputs": [
    {
     "data": {
      "text/plain": [
       "<function sklearn.model_selection._split.train_test_split(*arrays, **options)>"
      ]
     },
     "execution_count": 39,
     "metadata": {},
     "output_type": "execute_result"
    }
   ],
   "source": [
    "train_test_split"
   ]
  },
  {
   "cell_type": "markdown",
   "metadata": {},
   "source": [
    "# Movie Dataset"
   ]
  },
  {
   "cell_type": "code",
   "execution_count": 40,
   "metadata": {},
   "outputs": [],
   "source": [
    "import pandas as pd\n",
    "import numpy as np\n",
    "import matplotlib.pyplot as plt"
   ]
  },
  {
   "cell_type": "code",
   "execution_count": 41,
   "metadata": {},
   "outputs": [
    {
     "data": {
      "text/html": [
       "<div>\n",
       "<style scoped>\n",
       "    .dataframe tbody tr th:only-of-type {\n",
       "        vertical-align: middle;\n",
       "    }\n",
       "\n",
       "    .dataframe tbody tr th {\n",
       "        vertical-align: top;\n",
       "    }\n",
       "\n",
       "    .dataframe thead th {\n",
       "        text-align: right;\n",
       "    }\n",
       "</style>\n",
       "<table border=\"1\" class=\"dataframe\">\n",
       "  <thead>\n",
       "    <tr style=\"text-align: right;\">\n",
       "      <th></th>\n",
       "      <th>color</th>\n",
       "      <th>director_name</th>\n",
       "      <th>num_critic_for_reviews</th>\n",
       "      <th>duration</th>\n",
       "      <th>director_facebook_likes</th>\n",
       "      <th>actor_3_facebook_likes</th>\n",
       "      <th>actor_2_name</th>\n",
       "      <th>actor_1_facebook_likes</th>\n",
       "      <th>gross</th>\n",
       "      <th>genres</th>\n",
       "      <th>...</th>\n",
       "      <th>num_user_for_reviews</th>\n",
       "      <th>language</th>\n",
       "      <th>country</th>\n",
       "      <th>content_rating</th>\n",
       "      <th>budget</th>\n",
       "      <th>title_year</th>\n",
       "      <th>actor_2_facebook_likes</th>\n",
       "      <th>imdb_score</th>\n",
       "      <th>aspect_ratio</th>\n",
       "      <th>movie_facebook_likes</th>\n",
       "    </tr>\n",
       "  </thead>\n",
       "  <tbody>\n",
       "    <tr>\n",
       "      <td>0</td>\n",
       "      <td>Color</td>\n",
       "      <td>James Cameron</td>\n",
       "      <td>723.0</td>\n",
       "      <td>178.0</td>\n",
       "      <td>0.0</td>\n",
       "      <td>855.0</td>\n",
       "      <td>Joel David Moore</td>\n",
       "      <td>1000.0</td>\n",
       "      <td>760505847.0</td>\n",
       "      <td>Action|Adventure|Fantasy|Sci-Fi</td>\n",
       "      <td>...</td>\n",
       "      <td>3054.0</td>\n",
       "      <td>English</td>\n",
       "      <td>USA</td>\n",
       "      <td>PG-13</td>\n",
       "      <td>237000000.0</td>\n",
       "      <td>2009.0</td>\n",
       "      <td>936.0</td>\n",
       "      <td>7.9</td>\n",
       "      <td>1.78</td>\n",
       "      <td>33000</td>\n",
       "    </tr>\n",
       "    <tr>\n",
       "      <td>1</td>\n",
       "      <td>Color</td>\n",
       "      <td>Gore Verbinski</td>\n",
       "      <td>302.0</td>\n",
       "      <td>169.0</td>\n",
       "      <td>563.0</td>\n",
       "      <td>1000.0</td>\n",
       "      <td>Orlando Bloom</td>\n",
       "      <td>40000.0</td>\n",
       "      <td>309404152.0</td>\n",
       "      <td>Action|Adventure|Fantasy</td>\n",
       "      <td>...</td>\n",
       "      <td>1238.0</td>\n",
       "      <td>English</td>\n",
       "      <td>USA</td>\n",
       "      <td>PG-13</td>\n",
       "      <td>300000000.0</td>\n",
       "      <td>2007.0</td>\n",
       "      <td>5000.0</td>\n",
       "      <td>7.1</td>\n",
       "      <td>2.35</td>\n",
       "      <td>0</td>\n",
       "    </tr>\n",
       "    <tr>\n",
       "      <td>2</td>\n",
       "      <td>Color</td>\n",
       "      <td>Sam Mendes</td>\n",
       "      <td>602.0</td>\n",
       "      <td>148.0</td>\n",
       "      <td>0.0</td>\n",
       "      <td>161.0</td>\n",
       "      <td>Rory Kinnear</td>\n",
       "      <td>11000.0</td>\n",
       "      <td>200074175.0</td>\n",
       "      <td>Action|Adventure|Thriller</td>\n",
       "      <td>...</td>\n",
       "      <td>994.0</td>\n",
       "      <td>English</td>\n",
       "      <td>UK</td>\n",
       "      <td>PG-13</td>\n",
       "      <td>245000000.0</td>\n",
       "      <td>2015.0</td>\n",
       "      <td>393.0</td>\n",
       "      <td>6.8</td>\n",
       "      <td>2.35</td>\n",
       "      <td>85000</td>\n",
       "    </tr>\n",
       "    <tr>\n",
       "      <td>3</td>\n",
       "      <td>Color</td>\n",
       "      <td>Christopher Nolan</td>\n",
       "      <td>813.0</td>\n",
       "      <td>164.0</td>\n",
       "      <td>22000.0</td>\n",
       "      <td>23000.0</td>\n",
       "      <td>Christian Bale</td>\n",
       "      <td>27000.0</td>\n",
       "      <td>448130642.0</td>\n",
       "      <td>Action|Thriller</td>\n",
       "      <td>...</td>\n",
       "      <td>2701.0</td>\n",
       "      <td>English</td>\n",
       "      <td>USA</td>\n",
       "      <td>PG-13</td>\n",
       "      <td>250000000.0</td>\n",
       "      <td>2012.0</td>\n",
       "      <td>23000.0</td>\n",
       "      <td>8.5</td>\n",
       "      <td>2.35</td>\n",
       "      <td>164000</td>\n",
       "    </tr>\n",
       "    <tr>\n",
       "      <td>4</td>\n",
       "      <td>NaN</td>\n",
       "      <td>Doug Walker</td>\n",
       "      <td>NaN</td>\n",
       "      <td>NaN</td>\n",
       "      <td>131.0</td>\n",
       "      <td>NaN</td>\n",
       "      <td>Rob Walker</td>\n",
       "      <td>131.0</td>\n",
       "      <td>NaN</td>\n",
       "      <td>Documentary</td>\n",
       "      <td>...</td>\n",
       "      <td>NaN</td>\n",
       "      <td>NaN</td>\n",
       "      <td>NaN</td>\n",
       "      <td>NaN</td>\n",
       "      <td>NaN</td>\n",
       "      <td>NaN</td>\n",
       "      <td>12.0</td>\n",
       "      <td>7.1</td>\n",
       "      <td>NaN</td>\n",
       "      <td>0</td>\n",
       "    </tr>\n",
       "  </tbody>\n",
       "</table>\n",
       "<p>5 rows × 28 columns</p>\n",
       "</div>"
      ],
      "text/plain": [
       "   color      director_name  num_critic_for_reviews  duration  \\\n",
       "0  Color      James Cameron                   723.0     178.0   \n",
       "1  Color     Gore Verbinski                   302.0     169.0   \n",
       "2  Color         Sam Mendes                   602.0     148.0   \n",
       "3  Color  Christopher Nolan                   813.0     164.0   \n",
       "4    NaN        Doug Walker                     NaN       NaN   \n",
       "\n",
       "   director_facebook_likes  actor_3_facebook_likes      actor_2_name  \\\n",
       "0                      0.0                   855.0  Joel David Moore   \n",
       "1                    563.0                  1000.0     Orlando Bloom   \n",
       "2                      0.0                   161.0      Rory Kinnear   \n",
       "3                  22000.0                 23000.0    Christian Bale   \n",
       "4                    131.0                     NaN        Rob Walker   \n",
       "\n",
       "   actor_1_facebook_likes        gross                           genres  ...  \\\n",
       "0                  1000.0  760505847.0  Action|Adventure|Fantasy|Sci-Fi  ...   \n",
       "1                 40000.0  309404152.0         Action|Adventure|Fantasy  ...   \n",
       "2                 11000.0  200074175.0        Action|Adventure|Thriller  ...   \n",
       "3                 27000.0  448130642.0                  Action|Thriller  ...   \n",
       "4                   131.0          NaN                      Documentary  ...   \n",
       "\n",
       "  num_user_for_reviews language  country  content_rating       budget  \\\n",
       "0               3054.0  English      USA           PG-13  237000000.0   \n",
       "1               1238.0  English      USA           PG-13  300000000.0   \n",
       "2                994.0  English       UK           PG-13  245000000.0   \n",
       "3               2701.0  English      USA           PG-13  250000000.0   \n",
       "4                  NaN      NaN      NaN             NaN          NaN   \n",
       "\n",
       "   title_year actor_2_facebook_likes imdb_score  aspect_ratio  \\\n",
       "0      2009.0                  936.0        7.9          1.78   \n",
       "1      2007.0                 5000.0        7.1          2.35   \n",
       "2      2015.0                  393.0        6.8          2.35   \n",
       "3      2012.0                23000.0        8.5          2.35   \n",
       "4         NaN                   12.0        7.1           NaN   \n",
       "\n",
       "  movie_facebook_likes  \n",
       "0                33000  \n",
       "1                    0  \n",
       "2                85000  \n",
       "3               164000  \n",
       "4                    0  \n",
       "\n",
       "[5 rows x 28 columns]"
      ]
     },
     "execution_count": 41,
     "metadata": {},
     "output_type": "execute_result"
    }
   ],
   "source": [
    "# data frame\n",
    "\n",
    "df = pd.read_csv('./movie_metadata.csv')\n",
    "df.head()"
   ]
  },
  {
   "cell_type": "code",
   "execution_count": 46,
   "metadata": {},
   "outputs": [
    {
     "name": "stdout",
     "output_type": "stream",
     "text": [
      "Index(['color', 'director_name', 'num_critic_for_reviews', 'duration',\n",
      "       'director_facebook_likes', 'actor_3_facebook_likes', 'actor_2_name',\n",
      "       'actor_1_facebook_likes', 'gross', 'genres', 'actor_1_name',\n",
      "       'movie_title', 'num_voted_users', 'cast_total_facebook_likes',\n",
      "       'actor_3_name', 'facenumber_in_poster', 'plot_keywords',\n",
      "       'movie_imdb_link', 'num_user_for_reviews', 'language', 'country',\n",
      "       'content_rating', 'budget', 'title_year', 'actor_2_facebook_likes',\n",
      "       'imdb_score', 'aspect_ratio', 'movie_facebook_likes'],\n",
      "      dtype='object')\n"
     ]
    }
   ],
   "source": [
    "l = df.columns\n",
    "print(l)"
   ]
  },
  {
   "cell_type": "code",
   "execution_count": 54,
   "metadata": {},
   "outputs": [],
   "source": [
    "score = list(df.get('imdb_score'))"
   ]
  },
  {
   "cell_type": "code",
   "execution_count": 55,
   "metadata": {},
   "outputs": [
    {
     "name": "stdout",
     "output_type": "stream",
     "text": [
      "<class 'list'>\n"
     ]
    }
   ],
   "source": [
    "print(type(score))"
   ]
  },
  {
   "cell_type": "code",
   "execution_count": 56,
   "metadata": {},
   "outputs": [
    {
     "name": "stdout",
     "output_type": "stream",
     "text": [
      "[7.9, 7.1, 6.8, 8.5, 7.1, 6.6, 6.2, 7.8, 7.5, 7.5, 6.9, 6.1, 6.7, 7.3, 6.5, 7.2, 6.6, 8.1, 6.7, 6.8, 7.5, 7.0, 6.7, 7.9, 6.1, 7.2, 7.7, 8.2, 5.9, 7.0, 7.8, 7.3, 7.2, 6.5, 6.8, 7.3, 6.0, 5.7, 6.4, 6.7, 6.8, 6.3, 5.6, 8.3, 6.6, 7.2, 7.0, 8.0, 7.8, 6.3, 7.3, 6.6, 7.0, 6.3, 6.2, 6.8, 7.2, 7.5, 8.4, 6.2, 5.8, 6.8, 5.4, 6.6, 6.9, 7.3, 9.0, 8.3, 6.5, 7.9, 7.5, 4.8, 5.2, 6.9, 5.4, 7.9, 6.1, 5.8, 8.3, 7.8, 7.0, 6.1, 7.0, 7.6, 4.5, 6.3, 7.8, 6.4, 6.5, 7.9, 7.8, 6.6, 5.5, 8.2, 6.4, 8.1, 8.6, 8.8, 8.2, 7.9, 6.7, 7.8, 7.8, 6.6, 6.1, 5.6, 6.4, 6.1, 7.3, 6.6, 6.3, 6.1, 7.1, 5.5, 7.5, 7.6, 6.4, 7.2, 6.7, 8.0, 8.3, 6.7, 5.9, 6.7, 6.7, 7.6, 7.2, 7.1, 8.1, 6.7, 7.0, 6.9, 5.1, 5.8, 6.2, 7.4, 5.8, 6.6, 6.2, 7.3, 4.2, 6.9, 6.4, 5.4, 6.7, 5.8, 6.9, 7.2, 6.9, 6.1, 5.5, 6.6, 6.1, 6.3, 7.2, 7.4, 7.3, 6.1, 7.7, 6.1, 8.0, 7.3, 7.9, 5.5, 5.0, 7.7, 6.6, 5.7, 5.8, 6.0, 6.4, 6.9, 6.4, 7.4, 5.5, 5.9, 6.8, 7.5, 6.8, 8.1, 6.5, 7.2, 6.7, 8.1, 7.6, 7.4, 7.6, 5.5, 6.7, 6.5, 6.6, 6.7, 6.4, 5.8, 7.4, 7.8, 6.6, 4.9, 6.5, 7.5, 6.2, 7.3, 7.5, 5.6, 8.2, 8.1, 6.4, 6.7, 6.6, 6.4, 7.5, 7.3, 7.5, 5.8, 7.5, 6.6, 6.7, 3.7, 6.0, 6.4, 6.1, 6.4, 5.6, 8.0, 5.2, 7.1, 4.8, 7.0, 5.4, 6.6, 6.7, 6.2, 6.1, 5.3, 6.3, 7.0, 7.6, 6.7, 8.1, 6.7, 6.5, 7.3, 5.1, 6.0, 6.1, 5.9, 7.8, 5.8, 6.3, 4.3, 6.4, 6.1, 6.5, 7.1, 6.4, 6.5, 6.3, 7.5, 4.9, 5.8, 7.6, 6.2, 5.5, 5.4, 5.8, 7.1, 5.4, 3.7, 6.7, 7.2, 8.8, 5.8, 6.8, 3.8, 7.1, 7.2, 5.9, 7.1, 8.1, 7.2, 6.9, 4.4, 6.5, 8.5, 7.7, 7.4, 8.0, 5.7, 8.5, 7.0, 7.8, 7.2, 6.4, 5.5, 6.7, 6.1, 8.5, 6.9, 7.3, 6.7, 6.9, 5.1, 6.8, 5.8, 6.7, 6.0, 5.7, 8.0, 8.2, 5.4, 7.2, 7.5, 7.0, 3.3, 6.0, 7.1, 5.4, 6.1, 5.3, 2.2, 7.0, 3.8, 6.9, 7.2, 7.3, 6.3, 7.5, 7.6, 6.8, 5.2, 7.7, 6.2, 7.7, 4.3, 6.9, 6.6, 7.0, 6.7, 8.2, 8.9, 8.7, 5.5, 5.7, 6.3, 5.9, 7.6, 6.6, 5.3, 6.0, 8.0, 5.6, 5.9, 7.3, 7.9, 6.8, 6.6, 6.6, 7.0, 7.0, 7.3, 5.5, 8.5, 7.5, 7.0, 7.8, 7.6, 7.6, 6.1, 6.8, 5.0, 7.1, 5.5, 5.6, 7.1, 4.9, 7.4, 5.7, 6.4, 5.9, 5.5, 6.9, 6.2, 7.0, 5.6, 7.0, 6.8, 5.4, 6.1, 6.7, 4.3, 6.9, 8.0, 4.4, 7.3, 6.3, 6.7, 7.7, 6.5, 7.8, 6.4, 7.8, 5.8, 7.1, 7.1, 8.6, 6.8, 4.8, 6.2, 6.9, 7.3, 6.6, 6.9, 6.2, 6.7, 7.6, 6.7, 6.2, 7.3, 6.0, 7.1, 7.1, 5.5, 7.8, 5.6, 7.5, 5.4, 4.3, 4.9, 7.1, 6.4, 6.9, 4.3, 6.1, 7.0, 7.7, 5.9, 6.7, 6.5, 7.1, 7.3, 6.5, 7.0, 6.8, 7.2, 6.4, 6.1, 6.7, 6.4, 4.4, 5.4, 6.5, 6.7, 8.1, 5.6, 6.3, 7.3, 6.1, 7.7, 6.4, 8.8, 6.8, 6.6, 7.2, 6.9, 5.2, 4.9, 6.3, 5.6, 5.5, 6.7, 7.6, 5.7, 4.6, 7.0, 5.2, 5.1, 6.6, 7.0, 6.7, 7.6, 7.3, 5.9, 5.6, 6.5, 5.9, 7.0, 5.3, 5.9, 6.3, 6.4, 6.9, 6.3, 7.3, 5.8, 5.2, 2.4, 5.7, 5.8, 5.6, 6.0, 5.8, 6.0, 5.7, 6.0, 7.8, 4.2, 5.6, 4.4, 8.2, 8.5, 5.8, 6.5, 7.2, 6.7, 3.4, 5.9, 7.8, 5.9, 4.1, 6.8, 5.8, 7.5, 6.9, 6.5, 6.9, 7.9, 7.4, 6.7, 7.4, 6.9, 6.8, 6.7, 5.1, 4.1, 7.3, 6.0, 7.3, 7.5, 5.4, 5.9, 7.1, 6.0, 6.5, 8.3, 5.7, 7.6, 6.6, 5.4, 7.3, 6.5, 6.6, 6.6, 5.9, 6.7, 6.1, 6.6, 6.6, 5.3, 6.0, 6.0, 4.7, 6.1, 7.2, 6.4, 6.1, 5.9, 6.0, 6.3, 5.6, 6.4, 7.1, 6.6, 4.6, 8.4, 7.1, 7.4, 6.9, 4.5, 7.1, 6.5, 5.3, 6.7, 7.2, 7.2, 5.5, 5.8, 6.0, 6.6, 8.3, 6.7, 6.0, 7.1, 6.0, 7.5, 6.9, 5.6, 5.6, 4.5, 7.1, 6.5, 6.4, 5.8, 8.0, 6.2, 7.2, 6.1, 7.6, 6.3, 6.3, 6.3, 7.7, 7.0, 5.3, 5.6, 5.2, 5.4, 6.4, 5.9, 6.3, 6.5, 3.0, 3.6, 5.8, 6.2, 5.6, 5.4, 6.1, 4.2, 6.7, 4.2, 6.4, 4.9, 6.8, 7.7, 5.6, 6.4, 7.2, 6.0, 5.9, 7.9, 6.8, 7.1, 5.9, 5.9, 6.2, 7.4, 7.0, 5.4, 8.6, 6.5, 6.4, 7.6, 5.5, 7.4, 8.7, 7.6, 7.5, 5.5, 7.6, 6.5, 6.9, 6.7, 6.6, 7.2, 6.4, 6.4, 6.0, 6.1, 6.0, 6.4, 6.4, 7.3, 5.2, 6.6, 6.3, 5.9, 6.4, 6.7, 5.4, 6.4, 6.7, 6.2, 6.1, 8.8, 7.1, 8.1, 5.7, 5.0, 5.1, 6.9, 4.8, 6.5, 5.1, 7.1, 7.5, 6.2, 6.3, 8.1, 6.6, 6.9, 6.1, 4.3, 6.6, 6.8, 3.8, 5.9, 7.9, 6.3, 5.5, 7.7, 6.3, 7.1, 8.5, 5.9, 5.8, 8.1, 7.9, 7.2, 6.3, 8.1, 7.0, 5.5, 6.7, 5.2, 7.0, 6.1, 6.6, 5.5, 5.9, 5.4, 6.4, 5.7, 6.7, 7.1, 6.8, 6.5, 7.6, 5.5, 6.5, 7.0, 5.8, 7.3, 6.6, 4.4, 7.7, 5.0, 7.7, 4.4, 6.1, 5.4, 6.8, 6.5, 7.0, 6.3, 6.3, 6.1, 6.1, 7.3, 5.3, 5.4, 6.2, 6.6, 5.9, 6.3, 7.2, 6.8, 6.1, 7.8, 5.0, 6.2, 6.7, 4.9, 7.4, 7.1, 6.2, 4.9, 6.1, 6.1, 6.4, 6.3, 6.8, 6.6, 5.7, 5.9, 6.0, 6.1, 6.7, 6.7, 7.9, 5.0, 4.3, 5.7, 6.7, 6.7, 8.1, 6.1, 5.6, 6.6, 6.9, 4.8, 6.2, 6.0, 4.9, 5.6, 6.1, 6.1, 4.8, 5.5, 3.8, 6.5, 6.0, 6.7, 8.1, 4.9, 7.3, 6.4, 6.6, 6.7, 3.6, 5.7, 6.0, 4.9, 4.7, 6.3, 5.9, 5.9, 7.0, 7.5, 5.6, 6.4, 6.3, 4.3, 5.9, 6.7, 5.5, 6.2, 8.8, 5.2, 7.0, 6.6, 7.3, 5.6, 6.6, 5.4, 6.3, 7.9, 6.3, 6.0, 7.2, 5.1, 7.3, 8.0, 6.2, 6.0, 6.7, 8.1, 6.4, 8.4, 8.0, 6.3, 6.4, 6.6, 6.4, 6.0, 6.6, 5.9, 6.4, 6.3, 7.3, 6.8, 7.2, 5.7, 6.0, 6.5, 5.8, 5.8, 6.7, 7.8, 5.6, 5.8, 7.4, 6.9, 5.5, 6.3, 4.7, 5.6, 6.4, 4.2, 6.4, 7.7, 7.7, 5.3, 6.7, 7.7, 5.7, 7.6, 6.4, 5.6, 6.8, 2.4, 6.2, 5.9, 7.1, 7.6, 5.5, 7.0, 7.1, 7.4, 7.6, 5.9, 5.9, 8.0, 7.4, 5.8, 6.3, 5.7, 5.1, 7.6, 6.4, 7.4, 8.2, 6.5, 5.5, 6.5, 5.6, 4.9, 4.6, 7.9, 7.1, 6.9, 7.3, 7.0, 7.7, 6.7, 6.3, 5.8, 7.1, 7.3, 6.4, 7.1, 7.6, 6.8, 6.6, 6.7, 6.1, 6.0, 7.6, 7.1, 5.0, 7.1, 6.2, 5.6, 5.4, 7.4, 5.0, 5.2, 7.6, 6.6, 7.0, 5.7, 8.2, 6.2, 7.9, 6.6, 4.7, 6.3, 6.1, 6.7, 6.1, 7.0, 7.4, 7.3, 5.8, 6.7, 5.8, 7.8, 6.6, 6.5, 6.7, 7.3, 5.8, 5.5, 6.3, 7.4, 5.9, 6.2, 5.9, 6.5, 4.4, 3.5, 6.6, 6.0, 6.4, 6.5, 7.8, 4.3, 4.2, 6.5, 6.1, 6.3, 6.2, 5.9, 5.9, 6.5, 6.4, 6.5, 5.7, 7.5, 8.0, 7.3, 6.7, 7.5, 5.4, 6.6, 7.7, 5.8, 6.4, 5.6, 6.0, 6.2, 5.9, 5.1, 6.8, 7.0, 6.0, 5.1, 5.8, 6.2, 6.4, 4.8, 4.9, 5.6, 5.5, 3.7, 5.9, 8.5, 6.3, 7.4, 7.6, 8.3, 6.6, 6.9, 6.7, 6.8, 4.6, 7.1, 6.4, 6.4, 7.4, 6.4, 6.0, 6.5, 7.8, 6.0, 7.0, 6.0, 7.8, 6.1, 6.8, 6.4, 7.7, 8.1, 4.5, 5.8, 6.3, 5.7, 7.2, 7.6, 4.7, 6.6, 6.8, 7.3, 2.7, 4.8, 6.3, 5.5, 6.2, 5.8, 5.7, 6.5, 6.7, 7.4, 6.9, 5.5, 8.1, 7.7, 7.3, 5.2, 7.1, 7.1, 7.2, 6.5, 4.6, 5.6, 7.7, 7.2, 6.8, 5.4, 6.3, 7.2, 5.6, 6.8, 4.3, 6.3, 6.5, 6.4, 6.3, 5.9, 6.5, 6.5, 6.1, 5.9, 6.6, 7.4, 7.3, 6.6, 5.6, 5.3, 6.0, 5.4, 6.8, 6.4, 7.1, 4.9, 5.8, 7.1, 7.2, 6.0, 6.0, 7.0, 5.4, 6.5, 6.4, 8.3, 4.9, 6.3, 1.7, 7.7, 7.8, 5.5, 7.5, 6.4, 5.6, 7.5, 6.8, 6.8, 6.0, 7.3, 6.0, 7.0, 5.1, 6.8, 6.5, 6.6, 7.2, 7.0, 7.0, 5.9, 5.4, 6.6, 7.0, 6.5, 6.3, 6.5, 6.5, 5.8, 6.6, 5.4, 6.1, 4.0, 7.6, 7.9, 5.3, 6.6, 6.3, 7.5, 7.2, 7.0, 4.9, 6.9, 5.2, 8.1, 6.6, 6.2, 7.2, 7.3, 6.7, 6.4, 7.8, 6.4, 4.1, 4.1, 7.4, 5.8, 7.6, 7.2, 7.8, 7.7, 6.4, 5.1, 5.5, 7.4, 6.0, 7.5, 7.0, 7.5, 7.3, 5.7, 7.3, 7.2, 5.9, 7.8, 7.7, 8.1, 6.6, 7.1, 5.9, 8.0, 4.6, 6.1, 7.2, 6.4, 6.0, 5.2, 7.6, 6.4, 6.4, 6.1, 6.1, 5.2, 7.7, 7.3, 6.9, 8.5, 6.3, 5.9, 7.8, 6.7, 6.4, 5.9, 6.6, 6.8, 6.5, 6.6, 5.8, 6.9, 7.1, 5.8, 7.2, 6.0, 4.7, 5.2, 5.5, 6.5, 7.0, 5.8, 6.2, 6.5, 7.2, 5.1, 4.7, 5.9, 5.8, 7.2, 6.2, 7.4, 5.7, 6.1, 6.0, 6.9, 6.5, 5.0, 5.7, 7.0, 5.1, 5.3, 4.4, 4.7, 6.7, 6.7, 5.7, 7.4, 6.1, 6.4, 6.2, 6.2, 5.9, 4.0, 6.2, 4.6, 6.4, 5.9, 5.1, 7.6, 4.2, 7.8, 5.8, 5.9, 8.4, 4.8, 6.2, 6.5, 6.3, 3.3, 5.9, 6.0, 5.8, 6.5, 4.7, 4.1, 6.8, 6.2, 4.5, 5.8, 7.3, 5.9, 4.4, 5.8, 5.1, 6.9, 6.2, 6.9, 7.3, 7.1, 6.0, 7.0, 6.8, 5.7, 7.6, 8.4, 7.1, 5.6, 6.7, 7.0, 8.0, 5.3, 4.9, 6.4, 7.4, 6.1, 6.5, 5.7, 5.1, 6.6, 6.5, 6.9, 7.8, 6.4, 7.6, 5.6, 6.2, 4.4, 5.6, 5.5, 6.7, 6.1, 6.2, 7.3, 6.6, 8.2, 6.4, 6.4, 5.2, 6.5, 7.1, 4.8, 7.3, 5.2, 7.7, 7.6, 5.7, 7.0, 6.0, 8.1, 8.0, 5.6, 6.1, 6.9, 5.2, 7.0, 6.3, 7.0, 5.3, 6.9, 6.2, 6.4, 6.4, 5.7, 6.1, 5.4, 6.7, 6.8, 6.0, 7.8, 5.3, 4.5, 5.4, 7.8, 7.2, 6.6, 7.6, 5.9, 6.7, 7.7, 5.8, 5.4, 6.9, 7.7, 6.8, 6.4, 5.7, 7.3, 6.8, 6.3, 5.9, 7.4, 8.3, 6.2, 6.3, 5.8, 7.5, 6.3, 6.4, 7.2, 6.3, 6.9, 6.6, 6.0, 7.5, 7.7, 6.2, 5.4, 6.6, 5.3, 5.6, 5.9, 7.8, 6.7, 7.4, 6.2, 5.4, 6.7, 5.3, 5.9, 7.0, 4.8, 7.3, 3.8, 8.5, 6.8, 6.8, 5.3, 7.3, 6.6, 6.2, 5.2, 6.2, 6.2, 6.6, 6.4, 6.2, 5.1, 6.6, 6.1, 6.1, 6.6, 5.9, 6.3, 7.1, 5.0, 5.6, 7.4, 4.5, 6.2, 5.0, 6.5, 5.1, 6.5, 6.2, 6.3, 3.8, 5.2, 6.0, 6.2, 5.7, 6.7, 6.8, 6.0, 7.3, 5.5, 6.7, 4.8, 5.7, 5.1, 6.0, 4.2, 7.4, 4.6, 6.9, 8.6, 6.9, 8.0, 6.4, 6.3, 8.4, 7.1, 6.8, 7.5, 4.5, 5.7, 7.2, 6.8, 5.4, 7.2, 7.3, 5.2, 5.5, 7.7, 7.1, 5.3, 5.6, 5.7, 7.1, 7.5, 7.6, 5.5, 5.1, 6.3, 4.9, 6.5, 5.6, 5.3, 6.5, 6.8, 6.5, 6.0, 8.4, 6.0, 7.6, 5.6, 6.9, 6.4, 5.1, 7.0, 5.7, 6.8, 6.7, 6.2, 7.2, 6.2, 5.6, 4.4, 7.5, 7.1, 6.4, 7.1, 5.9, 6.9, 7.5, 6.3, 6.4, 5.9, 6.8, 6.3, 3.6, 5.3, 5.9, 6.9, 6.9, 6.1, 5.7, 8.5, 6.3, 7.3, 6.3, 7.2, 7.3, 6.3, 8.1, 6.9, 6.3, 7.3, 5.5, 6.1, 6.9, 7.2, 6.4, 6.4, 8.3, 7.2, 6.8, 6.5, 7.8, 7.6, 7.2, 6.7, 6.8, 6.3, 6.2, 6.2, 8.6, 8.0, 7.0, 8.0, 8.1, 6.7, 7.9, 6.1, 4.2, 6.1, 6.6, 7.5, 7.4, 7.2, 6.9, 7.4, 5.4, 6.8, 6.3, 7.2, 8.7, 6.9, 6.0, 5.9, 5.4, 5.9, 6.1, 7.7, 5.8, 7.6, 6.1, 5.4, 5.1, 6.4, 6.3, 7.5, 7.1, 5.2, 7.8, 6.5, 6.6, 5.1, 7.4, 7.2, 7.6, 7.5, 6.6, 7.2, 7.6, 6.2, 5.6, 7.6, 6.6, 7.0, 2.7, 7.6, 6.6, 6.9, 6.8, 7.5, 3.7, 6.1, 5.9, 6.7, 8.5, 6.9, 5.5, 7.1, 7.1, 5.9, 7.3, 3.4, 6.8, 6.9, 7.0, 5.5, 5.1, 6.2, 5.9, 5.2, 6.2, 5.5, 7.4, 4.4, 6.3, 6.1, 5.3, 5.4, 6.7, 5.9, 7.3, 5.5, 5.8, 4.6, 6.7, 5.1, 5.6, 7.0, 6.4, 6.7, 4.1, 5.5, 2.7, 6.4, 4.8, 6.1, 4.8, 7.0, 6.8, 7.3, 8.2, 5.6, 6.1, 7.9, 8.4, 6.5, 7.1, 6.6, 4.0, 7.0, 5.6, 4.8, 7.5, 6.0, 7.2, 5.6, 6.8, 4.9, 7.1, 2.0, 5.7, 4.1, 6.7, 7.5, 6.5, 7.9, 7.6, 6.4, 5.8, 7.7, 7.1, 5.3, 5.3, 7.5, 6.9, 4.9, 7.1, 8.0, 7.9, 7.6, 5.9, 6.3, 7.1, 6.4, 8.2, 6.9, 7.8, 6.7, 7.5, 7.4, 5.2, 6.5, 7.6, 7.3, 6.6, 6.8, 6.9, 5.8, 6.6, 6.7, 6.7, 6.3, 7.7, 6.1, 4.9, 6.2, 7.8, 8.2, 6.9, 6.2, 6.9, 4.8, 8.0, 5.3, 6.7, 5.4, 5.4, 4.9, 6.1, 5.8, 7.0, 6.5, 6.6, 6.1, 5.7, 6.6, 7.0, 7.4, 5.3, 7.4, 7.4, 6.8, 7.9, 7.2, 6.0, 7.8, 6.6, 7.9, 6.2, 5.7, 7.1, 5.6, 7.8, 7.9, 6.9, 7.4, 7.7, 6.9, 8.7, 6.7, 6.0, 6.2, 5.9, 6.8, 3.6, 6.7, 6.3, 6.4, 6.4, 5.7, 6.2, 6.6, 5.2, 6.1, 7.1, 7.2, 6.5, 6.0, 7.0, 7.0, 7.5, 6.6, 8.8, 7.4, 6.5, 6.2, 7.8, 5.2, 6.5, 6.5, 5.2, 7.2, 7.1, 4.5, 5.7, 6.0, 6.4, 5.2, 4.3, 6.1, 6.3, 6.8, 4.0, 5.2, 6.5, 7.5, 7.1, 6.9, 8.0, 8.2, 6.4, 7.9, 6.7, 6.1, 8.9, 8.1, 6.2, 4.9, 5.4, 5.8, 4.7, 6.0, 7.0, 6.0, 7.9, 8.1, 6.2, 6.7, 7.3, 4.6, 6.1, 6.2, 7.8, 6.1, 7.6, 5.8, 6.5, 7.2, 7.8, 4.7, 6.8, 5.9, 7.2, 8.7, 5.0, 6.6, 8.3, 6.7, 7.8, 6.5, 6.1, 8.1, 5.2, 5.6, 5.8, 6.6, 6.6, 5.5, 5.5, 7.0, 6.5, 5.8, 5.6, 5.6, 5.8, 7.6, 6.4, 6.3, 4.6, 6.5, 7.5, 7.5, 5.3, 7.5, 3.3, 5.7, 3.5, 9.3, 4.8, 6.9, 6.0, 7.3, 6.0, 6.6, 7.5, 6.9, 6.8, 8.3, 6.3, 6.4, 5.6, 6.3, 7.3, 6.6, 4.6, 5.1, 5.6, 5.3, 7.5, 5.6, 5.9, 4.7, 4.8, 6.8, 5.4, 5.1, 7.0, 6.7, 4.0, 7.3, 6.8, 6.1, 7.2, 7.0, 7.1, 6.9, 7.3, 6.3, 8.2, 7.1, 7.7, 6.5, 4.9, 6.4, 5.9, 6.2, 5.8, 6.7, 5.9, 7.3, 4.8, 4.1, 4.9, 7.9, 5.6, 5.2, 4.1, 6.6, 2.9, 7.2, 6.5, 6.8, 7.2, 6.8, 7.8, 6.7, 6.1, 7.1, 5.7, 2.9, 5.2, 5.3, 6.2, 7.3, 6.5, 4.1, 7.7, 6.1, 7.3, 7.2, 5.3, 6.1, 5.8, 5.7, 6.7, 6.5, 7.2, 7.6, 4.6, 6.9, 6.6, 6.3, 6.2, 5.3, 7.3, 5.6, 6.2, 5.2, 5.3, 5.4, 4.9, 5.5, 6.7, 3.9, 7.2, 5.1, 6.5, 8.2, 7.7, 7.2, 6.1, 8.8, 6.8, 6.8, 6.7, 7.1, 7.1, 6.1, 8.0, 7.5, 6.6, 5.4, 6.1, 6.1, 5.6, 5.8, 2.8, 6.7, 5.1, 7.2, 6.0, 7.2, 6.7, 6.3, 6.2, 6.8, 6.2, 6.9, 6.8, 7.1, 7.1, 7.0, 7.1, 6.4, 7.0, 6.2, 7.5, 4.8, 8.1, 7.3, 5.8, 7.6, 5.6, 7.0, 6.6, 6.5, 7.4, 4.6, 6.4, 6.0, 6.4, 5.9, 6.4, 6.6, 6.9, 6.9, 5.8, 6.4, 5.3, 6.5, 5.7, 6.7, 3.9, 4.1, 6.2, 3.8, 5.1, 6.4, 7.8, 7.8, 6.1, 5.8, 6.3, 7.7, 5.4, 7.3, 6.8, 7.3, 6.5, 7.2, 6.7, 6.3, 5.9, 7.8, 7.4, 4.8, 6.3, 7.8, 7.5, 6.0, 6.8, 6.6, 4.6, 2.9, 7.1, 6.1, 6.7, 7.1, 5.8, 6.7, 5.8, 6.8, 8.5, 6.6, 7.7, 4.7, 6.4, 5.5, 8.6, 7.0, 7.1, 5.7, 3.7, 7.5, 4.6, 4.9, 6.9, 7.1, 5.8, 7.0, 5.4, 7.3, 7.1, 5.8, 8.1, 5.7, 4.4, 7.9, 7.6, 4.8, 7.8, 6.7, 2.7, 5.8, 7.5, 5.4, 4.1, 5.9, 6.3, 7.0, 6.8, 3.5, 2.3, 6.9, 8.1, 6.1, 5.0, 5.5, 6.2, 6.2, 5.9, 6.3, 6.7, 3.5, 7.5, 6.6, 7.5, 7.2, 4.8, 6.6, 3.5, 6.7, 7.6, 6.3, 5.5, 6.3, 6.5, 5.6, 6.9, 7.6, 3.9, 6.1, 7.3, 8.3, 5.8, 6.8, 7.0, 5.9, 6.5, 6.4, 5.8, 5.1, 6.8, 5.3, 5.3, 6.4, 4.9, 6.8, 7.1, 6.8, 6.1, 7.0, 8.5, 5.9, 6.3, 5.9, 5.4, 7.0, 6.9, 7.5, 8.2, 5.9, 5.0, 7.3, 6.4, 6.6, 7.8, 6.7, 4.0, 7.6, 7.7, 5.8, 5.2, 5.6, 5.3, 7.4, 6.6, 6.2, 1.9, 5.7, 6.6, 6.0, 6.1, 4.8, 6.2, 7.5, 6.3, 7.1, 6.6, 6.1, 6.7, 5.6, 7.2, 4.3, 6.4, 7.1, 6.3, 7.4, 6.1, 6.6, 6.0, 6.8, 7.4, 6.8, 7.2, 1.9, 5.5, 4.5, 6.3, 7.0, 6.7, 2.8, 5.0, 7.5, 4.3, 5.6, 6.2, 5.3, 7.4, 7.4, 6.5, 7.1, 7.2, 2.3, 6.4, 6.1, 7.0, 6.5, 7.0, 7.0, 4.9, 6.9, 7.5, 8.4, 6.9, 4.5, 7.4, 7.0, 2.8, 7.5, 7.1, 6.4, 6.7, 5.3, 6.9, 6.2, 6.3, 6.4, 6.5, 6.0, 5.1, 5.5, 7.2, 5.4, 5.7, 5.2, 6.2, 6.7, 5.8, 7.0, 4.8, 7.2, 5.6, 6.4, 7.5, 7.4, 8.0, 5.7, 6.8, 5.9, 7.2, 5.5, 8.4, 8.5, 5.6, 4.1, 5.0, 6.1, 5.4, 7.1, 6.6, 3.6, 6.5, 8.6, 6.2, 7.0, 7.6, 6.5, 6.4, 6.7, 6.3, 6.4, 5.7, 6.3, 7.8, 6.0, 7.7, 6.2, 5.7, 7.7, 6.4, 6.4, 6.9, 7.3, 7.3, 6.2, 6.6, 6.7, 5.7, 3.1, 6.3, 5.7, 7.1, 7.0, 6.1, 6.6, 7.8, 8.3, 3.9, 7.0, 6.7, 7.3, 7.5, 6.3, 7.8, 7.3, 7.6, 5.3, 7.9, 5.3, 6.8, 7.1, 7.2, 5.8, 5.8, 8.3, 5.6, 6.8, 5.0, 7.6, 6.7, 6.7, 5.7, 5.2, 7.5, 7.2, 5.3, 6.5, 5.0, 6.1, 7.4, 4.4, 7.5, 5.7, 5.5, 7.1, 5.9, 6.7, 7.0, 7.9, 6.9, 7.3, 7.3, 3.5, 7.8, 7.4, 6.7, 6.4, 7.1, 6.7, 7.8, 4.0, 5.9, 7.2, 7.2, 5.1, 7.7, 5.5, 6.2, 7.2, 5.2, 6.7, 6.3, 5.0, 6.2, 7.6, 4.1, 5.3, 6.2, 6.5, 8.1, 6.3, 4.4, 4.6, 6.0, 7.6, 8.4, 7.9, 5.6, 6.5, 7.5, 6.3, 7.9, 7.9, 5.1, 6.7, 6.7, 5.6, 5.6, 6.8, 6.2, 5.6, 6.4, 5.6, 7.4, 4.9, 6.0, 7.2, 4.9, 7.5, 4.8, 3.1, 5.8, 6.7, 6.8, 6.5, 5.9, 5.5, 3.6, 3.3, 7.4, 6.7, 3.0, 7.6, 6.4, 6.9, 6.6, 5.5, 6.6, 5.2, 4.1, 6.8, 6.5, 7.6, 7.4, 7.7, 7.1, 6.3, 7.6, 8.0, 7.3, 7.6, 7.8, 6.5, 6.4, 8.0, 4.8, 7.8, 5.9, 5.4, 3.3, 8.2, 6.6, 5.4, 6.4, 4.8, 5.9, 5.5, 7.9, 4.9, 7.2, 6.6, 6.7, 5.3, 7.2, 5.1, 5.6, 7.6, 3.1, 7.2, 5.7, 5.2, 7.7, 7.0, 3.6, 4.9, 6.0, 6.6, 6.8, 7.2, 7.2, 2.8, 6.6, 6.7, 7.0, 4.4, 7.1, 6.2, 7.3, 5.1, 8.1, 6.7, 6.6, 4.5, 8.1, 6.6, 6.5, 5.9, 6.6, 6.5, 7.3, 7.5, 5.9, 7.4, 6.9, 7.9, 8.4, 8.0, 6.0, 7.3, 6.8, 7.8, 5.7, 6.1, 8.1, 6.1, 7.5, 6.2, 6.2, 7.9, 7.4, 6.6, 7.3, 7.5, 5.6, 7.3, 6.4, 5.0, 5.4, 8.2, 7.1, 5.3, 6.5, 6.2, 6.4, 7.2, 6.9, 5.7, 7.7, 5.4, 5.6, 7.7, 5.1, 6.8, 8.4, 4.9, 7.1, 6.6, 6.1, 4.1, 5.8, 8.1, 7.6, 7.8, 4.6, 6.0, 7.0, 6.7, 6.4, 7.2, 7.4, 4.8, 4.0, 6.2, 7.7, 6.7, 7.9, 7.9, 5.5, 6.2, 5.1, 4.1, 6.7, 4.7, 6.4, 6.3, 5.5, 7.3, 6.3, 4.9, 7.6, 6.0, 6.2, 6.8, 4.5, 5.7, 8.4, 4.6, 6.2, 7.0, 6.9, 6.1, 6.7, 5.6, 6.6, 6.4, 2.8, 5.4, 5.0, 5.1, 8.0, 5.9, 7.5, 8.2, 7.0, 6.6, 6.7, 5.5, 4.9, 6.9, 7.4, 5.6, 8.0, 5.3, 6.2, 5.3, 6.6, 7.2, 4.6, 7.5, 6.5, 7.6, 6.2, 8.0, 5.5, 6.3, 7.2, 7.9, 6.7, 5.3, 6.3, 6.5, 5.6, 7.0, 8.3, 7.2, 6.8, 6.4, 6.9, 8.0, 6.2, 6.4, 5.6, 6.1, 6.0, 5.1, 4.5, 5.9, 6.0, 5.8, 6.1, 4.9, 5.7, 7.1, 6.6, 8.1, 5.7, 6.8, 7.5, 6.2, 8.3, 7.4, 8.0, 6.9, 6.9, 9.5, 5.5, 5.7, 7.2, 6.9, 5.5, 5.9, 7.7, 5.2, 7.1, 6.6, 5.5, 7.7, 5.4, 6.7, 5.0, 6.4, 6.6, 5.9, 5.7, 4.5, 3.7, 5.0, 4.6, 6.5, 4.9, 6.0, 6.9, 5.7, 6.7, 6.9, 5.5, 4.4, 5.4, 7.0, 5.4, 5.4, 8.0, 7.6, 5.9, 6.6, 6.7, 3.9, 5.7, 6.7, 6.5, 6.8, 6.3, 7.3, 6.9, 7.0, 6.5, 3.6, 7.7, 7.7, 5.9, 6.8, 7.4, 5.1, 9.1, 7.4, 7.2, 6.0, 7.4, 8.3, 8.1, 6.3, 7.3, 3.6, 1.6, 8.0, 6.2, 9.0, 6.1, 5.7, 6.8, 5.5, 6.8, 7.3, 6.1, 7.2, 5.9, 6.1, 6.8, 7.7, 4.9, 6.1, 2.5, 6.1, 5.9, 5.7, 5.6, 7.2, 7.7, 7.8, 6.1, 5.8, 6.5, 7.9, 6.3, 3.8, 8.3, 6.4, 6.7, 6.1, 8.1, 6.0, 5.8, 5.6, 6.1, 5.9, 7.3, 6.8, 5.7, 7.3, 6.3, 5.9, 7.1, 7.1, 8.0, 5.1, 7.1, 6.5, 4.5, 6.6, 4.3, 6.7, 6.8, 5.4, 6.6, 7.4, 7.3, 6.9, 8.0, 6.4, 7.8, 6.1, 6.1, 5.1, 7.8, 7.4, 7.8, 8.0, 6.7, 6.6, 6.4, 6.7, 6.2, 7.3, 8.1, 7.0, 8.0, 8.0, 7.0, 7.9, 5.9, 6.6, 6.3, 7.7, 6.9, 7.1, 7.4, 6.5, 6.5, 6.8, 7.5, 6.6, 7.1, 6.6, 7.0, 3.3, 6.7, 8.0, 6.8, 6.0, 5.4, 4.3, 6.2, 7.7, 8.0, 7.4, 5.9, 7.8, 7.4, 6.5, 5.4, 7.0, 8.6, 7.6, 6.9, 7.0, 5.3, 6.4, 4.5, 7.8, 6.7, 5.3, 6.3, 7.0, 5.3, 6.6, 5.8, 6.7, 6.6, 7.0, 8.4, 6.0, 5.4, 7.8, 7.6, 6.6, 6.4, 7.0, 5.7, 5.9, 6.3, 6.3, 6.2, 2.1, 5.0, 5.3, 7.1, 7.0, 7.0, 5.7, 7.1, 7.0, 7.7, 7.1, 6.8, 7.5, 6.3, 7.3, 6.8, 7.2, 6.4, 6.0, 6.4, 5.1, 7.5, 7.1, 4.6, 5.7, 6.8, 7.7, 6.7, 3.2, 6.1, 5.6, 6.9, 7.5, 5.8, 8.3, 2.8, 6.6, 7.5, 6.0, 6.2, 7.2, 8.7, 6.0, 8.0, 7.2, 4.5, 7.9, 7.1, 7.5, 6.8, 4.3, 7.2, 5.8, 7.1, 7.4, 7.6, 6.9, 6.0, 6.9, 7.3, 4.6, 6.0, 6.4, 5.5, 7.5, 8.1, 6.3, 5.1, 6.8, 5.3, 7.3, 7.3, 7.1, 7.6, 5.3, 7.8, 7.7, 7.7, 5.4, 6.2, 7.4, 6.2, 5.1, 6.9, 6.3, 6.8, 7.4, 5.7, 5.8, 6.2, 4.3, 6.4, 6.0, 6.9, 5.5, 5.4, 8.3, 7.9, 6.5, 6.3, 6.4, 7.9, 5.3, 5.8, 6.6, 7.4, 8.3, 5.3, 6.2, 6.9, 5.9, 6.1, 5.8, 7.3, 5.9, 5.5, 5.0, 7.0, 7.8, 6.4, 5.9, 7.0, 6.1, 6.9, 7.5, 7.3, 6.5, 6.2, 6.7, 6.0, 6.3, 5.8, 6.1, 6.9, 8.3, 5.4, 6.7, 7.4, 5.6, 6.5, 6.5, 5.8, 5.0, 5.5, 6.5, 7.2, 7.3, 7.2, 5.2, 5.7, 4.7, 5.9, 6.8, 5.9, 5.3, 6.0, 7.7, 4.4, 6.6, 6.7, 5.5, 6.5, 6.2, 7.1, 6.1, 7.1, 6.0, 7.4, 5.9, 4.1, 5.8, 5.9, 7.0, 6.8, 7.4, 7.1, 7.0, 5.8, 7.8, 6.5, 7.0, 6.3, 5.3, 6.8, 5.5, 7.4, 4.3, 6.0, 5.2, 6.7, 6.3, 7.9, 8.6, 6.1, 5.8, 7.7, 8.0, 5.6, 6.7, 6.6, 4.2, 6.6, 4.1, 7.3, 7.1, 6.5, 7.0, 5.5, 6.6, 7.1, 7.9, 7.1, 5.6, 7.3, 3.3, 6.5, 4.8, 5.2, 6.3, 7.2, 6.8, 5.7, 7.2, 6.9, 9.1, 6.3, 6.2, 6.7, 6.5, 7.2, 5.3, 6.7, 6.2, 3.6, 5.7, 7.3, 5.0, 6.6, 6.6, 6.8, 6.2, 7.3, 6.2, 6.9, 6.6, 6.3, 7.0, 3.3, 6.7, 6.2, 6.5, 3.5, 5.5, 5.9, 4.7, 4.2, 5.2, 5.2, 3.9, 6.1, 5.8, 6.7, 5.7, 4.5, 6.9, 4.8, 6.3, 6.9, 5.4, 3.8, 7.0, 5.2, 7.3, 4.6, 6.5, 6.8, 6.7, 6.1, 5.2, 6.9, 6.0, 7.9, 4.5, 5.1, 7.6, 7.6, 6.7, 6.1, 7.5, 5.3, 6.0, 7.1, 7.5, 6.9, 8.5, 7.5, 6.6, 8.0, 7.0, 5.8, 7.3, 6.8, 6.7, 6.5, 8.0, 6.5, 4.9, 7.1, 7.0, 7.0, 7.5, 4.5, 5.5, 7.7, 7.2, 4.8, 6.7, 7.0, 6.5, 7.4, 3.5, 5.7, 6.2, 5.7, 6.4, 7.0, 7.7, 5.4, 6.6, 6.1, 6.1, 7.6, 6.2, 6.6, 6.1, 7.3, 4.2, 7.1, 6.0, 6.5, 6.5, 5.7, 6.1, 7.1, 7.3, 6.5, 7.9, 5.7, 7.2, 7.3, 6.9, 5.0, 5.9, 6.7, 7.3, 7.6, 6.5, 2.1, 5.3, 7.2, 7.0, 8.0, 6.5, 6.9, 7.1, 7.3, 7.5, 6.9, 7.2, 7.2, 6.7, 6.0, 8.9, 7.7, 7.9, 5.6, 8.0, 6.2, 7.9, 8.1, 7.6, 3.5, 7.6, 6.5, 5.6, 7.7, 5.2, 6.9, 6.1, 5.0, 7.8, 7.4, 6.8, 7.1, 6.4, 5.7, 7.5, 6.7, 5.6, 7.0, 7.6, 6.5, 7.0, 6.3, 6.4, 7.1, 7.1, 6.5, 6.9, 5.4, 4.9, 5.1, 5.3, 7.5, 8.3, 7.3, 7.3, 7.1, 6.0, 6.6, 7.2, 7.2, 6.9, 6.8, 4.0, 7.7, 7.4, 6.5, 6.4, 7.2, 5.6, 6.3, 6.8, 5.5, 6.9, 6.0, 7.7, 6.4, 6.6, 5.3, 8.1, 5.9, 7.7, 4.6, 5.1, 6.9, 8.0, 6.8, 5.4, 6.5, 4.2, 7.4, 6.9, 6.7, 7.3, 7.6, 5.4, 7.3, 6.4, 6.0, 7.2, 6.0, 3.1, 6.9, 6.2, 5.5, 6.9, 6.3, 4.8, 7.9, 6.7, 5.6, 5.4, 8.0, 5.7, 7.6, 7.0, 7.2, 6.2, 3.5, 7.5, 5.1, 6.7, 9.2, 6.1, 7.7, 7.6, 6.1, 4.9, 6.8, 7.0, 7.2, 5.7, 7.3, 7.5, 7.4, 7.2, 6.5, 9.0, 6.8, 6.8, 5.2, 7.2, 7.5, 4.0, 6.8, 6.9, 8.2, 7.3, 6.1, 7.8, 6.0, 4.1, 7.0, 7.1, 6.2, 6.9, 7.6, 7.6, 6.4, 6.2, 7.5, 2.0, 6.2, 7.7, 6.5, 7.4, 7.9, 6.8, 6.3, 6.3, 6.6, 6.4, 7.5, 5.8, 6.5, 4.8, 7.2, 6.3, 7.0, 6.3, 5.3, 2.3, 7.1, 6.2, 6.2, 6.7, 6.5, 5.9, 6.7, 6.0, 6.9, 7.9, 5.3, 4.8, 5.3, 6.0, 7.3, 7.4, 7.7, 4.8, 7.2, 5.8, 7.3, 7.0, 6.4, 5.6, 8.2, 6.5, 6.4, 8.1, 5.4, 6.3, 7.8, 6.8, 7.2, 7.1, 6.2, 7.3, 5.9, 7.2, 3.6, 7.7, 7.3, 7.4, 6.6, 6.9, 6.8, 7.3, 7.2, 6.5, 7.7, 8.1, 7.7, 7.6, 7.3, 8.7, 7.2, 7.2, 8.1, 7.5, 8.1, 7.8, 7.8, 5.8, 7.6, 7.4, 6.3, 6.9, 8.6, 5.1, 6.4, 7.9, 6.9, 7.5, 7.2, 5.8, 2.9, 6.2, 7.3, 6.2, 8.2, 6.8, 6.1, 7.7, 5.2, 6.8, 6.5, 7.0, 5.9, 7.1, 5.5, 7.4, 7.3, 4.6, 7.2, 7.0, 5.1, 6.7, 5.3, 8.4, 7.8, 6.7, 5.4, 7.2, 5.8, 6.4, 8.0, 7.0, 7.0, 6.7, 3.8, 5.7, 6.6, 6.7, 6.1, 6.2, 6.2, 7.4, 4.7, 8.3, 7.2, 5.8, 5.9, 6.3, 7.2, 5.4, 8.2, 7.3, 7.3, 5.8, 6.1, 7.1, 6.5, 7.9, 5.4, 7.1, 6.4, 8.4, 6.7, 6.9, 2.1, 4.3, 6.6, 3.4, 8.3, 7.2, 5.6, 7.7, 6.6, 7.6, 7.4, 7.1, 3.4, 7.9, 6.7, 6.6, 7.9, 4.9, 7.2, 7.4, 6.1, 8.4, 6.2, 5.3, 5.0, 7.7, 7.6, 6.3, 7.6, 5.6, 7.3, 6.2, 6.6, 6.6, 7.3, 6.6, 6.9, 5.8, 4.4, 6.6, 7.1, 7.6, 4.6, 6.8, 7.1, 4.9, 7.3, 7.2, 5.0, 8.2, 8.0, 5.2, 8.5, 6.5, 7.4, 7.7, 7.4, 5.1, 7.3, 5.0, 7.2, 6.7, 6.4, 7.1, 5.6, 6.2, 6.1, 5.2, 7.3, 7.5, 6.6, 6.4, 4.5, 6.6, 5.3, 4.9, 7.7, 8.0, 3.8, 7.6, 5.9, 6.2, 7.2, 6.3, 5.2, 6.9, 6.8, 6.2, 6.2, 3.5, 6.1, 6.6, 4.5, 5.9, 6.9, 7.7, 6.6, 5.3, 6.3, 7.0, 7.0, 6.6, 8.6, 6.4, 7.9, 5.4, 6.9, 7.7, 7.2, 6.8, 6.2, 7.4, 4.6, 6.4, 7.0, 7.7, 6.8, 7.0, 7.0, 6.3, 7.1, 5.6, 4.4, 7.1, 6.1, 7.4, 7.5, 7.2, 7.6, 7.3, 6.2, 6.2, 4.6, 6.2, 6.2, 3.3, 7.5, 4.2, 7.2, 6.2, 6.1, 4.2, 4.5, 8.4, 7.5, 6.7, 5.1, 5.5, 4.4, 4.4, 6.8, 6.7, 8.6, 4.8, 3.4, 7.4, 7.3, 8.0, 6.5, 5.9, 6.8, 7.4, 6.7, 6.8, 5.4, 5.5, 7.4, 5.7, 5.4, 3.2, 7.1, 7.8, 5.3, 7.2, 6.2, 5.9, 7.3, 6.7, 5.7, 7.1, 7.2, 7.4, 7.7, 7.7, 7.4, 8.4, 7.1, 7.2, 7.5, 5.4, 8.1, 6.0, 7.8, 6.8, 6.5, 7.7, 6.4, 6.5, 7.3, 6.6, 7.9, 5.9, 4.7, 8.7, 5.9, 6.7, 8.5, 8.4, 5.8, 6.1, 7.3, 6.7, 7.6, 7.2, 6.2, 5.8, 5.2, 8.1, 7.1, 6.5, 7.3, 6.2, 5.0, 8.0, 7.8, 8.1, 6.7, 6.1, 7.1, 5.6, 7.6, 4.3, 7.3, 7.3, 4.6, 6.8, 7.5, 7.1, 7.3, 8.3, 5.4, 4.0, 8.0, 6.7, 5.7, 4.6, 4.0, 7.0, 7.4, 5.9, 4.6, 4.8, 7.5, 4.7, 6.7, 6.3, 6.0, 6.7, 7.1, 2.7, 7.3, 7.6, 5.8, 6.5, 6.6, 6.2, 6.9, 8.5, 4.8, 6.6, 5.7, 7.0, 5.4, 7.1, 6.9, 6.6, 5.9, 6.3, 6.3, 7.7, 7.0, 6.3, 5.9, 6.2, 5.0, 7.7, 6.5, 6.1, 5.8, 6.1, 6.0, 6.3, 6.3, 7.5, 7.6, 5.2, 7.8, 6.6, 4.7, 6.7, 4.2, 6.3, 4.7, 6.0, 7.9, 8.1, 8.2, 6.0, 6.8, 7.3, 7.0, 7.3, 7.5, 6.8, 7.1, 6.9, 6.9, 6.9, 8.4, 7.9, 7.2, 7.8, 3.5, 7.3, 7.5, 7.8, 6.0, 7.3, 8.0, 7.6, 7.0, 7.5, 6.8, 3.9, 6.1, 7.5, 8.2, 7.2, 4.8, 7.8, 5.2, 3.3, 6.8, 7.0, 6.5, 5.7, 6.4, 5.3, 4.7, 6.1, 5.5, 7.3, 4.8, 8.4, 7.0, 3.3, 5.4, 4.8, 3.1, 6.7, 7.6, 7.1, 6.1, 6.5, 8.5, 8.7, 7.1, 6.6, 6.7, 8.3, 8.1, 7.4, 6.6, 4.5, 6.4, 7.5, 8.0, 8.1, 7.2, 7.5, 7.2, 6.4, 7.6, 7.8, 5.7, 8.6, 8.2, 6.6, 5.7, 7.4, 8.0, 7.3, 5.4, 7.4, 5.7, 6.8, 5.4, 8.1, 6.1, 5.1, 5.6, 5.9, 8.2, 5.3, 6.8, 8.3, 4.3, 6.7, 7.2, 6.9, 6.6, 5.9, 7.9, 8.3, 5.2, 7.8, 7.8, 3.0, 7.9, 3.2, 6.5, 6.9, 7.0, 7.4, 7.8, 6.9, 4.4, 6.0, 6.6, 7.8, 5.3, 5.3, 8.0, 7.1, 5.4, 6.9, 7.4, 7.3, 7.8, 6.6, 5.4, 8.4, 6.3, 6.1, 5.0, 6.9, 7.2, 7.3, 5.7, 5.0, 5.3, 7.9, 5.0, 5.3, 6.0, 7.6, 7.4, 5.9, 4.1, 6.7, 5.8, 6.2, 5.3, 3.3, 6.5, 6.2, 5.9, 5.5, 5.5, 2.6, 5.8, 7.4, 5.1, 5.2, 4.8, 3.9, 6.2, 7.0, 6.2, 5.9, 8.0, 7.3, 4.9, 6.5, 4.3, 6.4, 7.6, 6.8, 6.1, 4.0, 7.4, 8.3, 5.3, 8.1, 8.0, 5.7, 8.2, 7.1, 7.4, 6.6, 5.7, 6.9, 7.0, 7.0, 7.8, 5.9, 7.4, 7.8, 6.0, 5.3, 7.9, 7.2, 7.4, 5.3, 8.3, 7.6, 5.1, 5.1, 4.9, 6.9, 4.6, 6.3, 7.9, 6.7, 7.1, 7.6, 8.1, 6.6, 7.0, 7.6, 6.7, 7.1, 7.6, 7.1, 7.1, 7.7, 7.6, 6.6, 6.7, 5.7, 7.1, 6.2, 6.1, 5.9, 6.8, 5.8, 5.0, 6.3, 6.8, 5.1, 6.6, 5.0, 7.7, 3.1, 6.5, 3.9, 6.8, 7.0, 5.9, 5.8, 7.3, 7.8, 7.8, 6.9, 5.7, 4.7, 5.9, 5.9, 4.3, 7.5, 4.8, 5.8, 5.3, 6.0, 8.1, 7.0, 7.6, 7.2, 7.5, 6.3, 6.7, 4.8, 5.5, 7.5, 5.1, 7.4, 7.3, 6.9, 6.8, 8.4, 7.6, 7.6, 7.7, 7.6, 5.3, 8.5, 7.0, 8.0, 7.1, 7.8, 7.2, 7.5, 8.0, 8.1, 6.8, 7.4, 7.2, 8.1, 7.0, 7.4, 8.3, 6.1, 7.5, 7.0, 5.3, 4.7, 5.7, 8.1, 7.8, 6.5, 8.0, 3.3, 8.3, 6.9, 7.3, 8.1, 6.5, 6.8, 7.3, 6.4, 4.6, 6.5, 7.0, 5.4, 6.7, 2.8, 7.4, 5.8, 7.1, 4.5, 7.9, 5.3, 5.4, 4.8, 5.9, 6.2, 5.9, 6.6, 6.6, 5.1, 6.0, 6.8, 5.4, 5.2, 7.8, 6.4, 6.1, 5.7, 5.5, 7.4, 7.1, 3.9, 4.6, 7.3, 7.7, 4.9, 6.3, 6.1, 6.6, 5.7, 5.6, 6.0, 5.7, 7.0, 5.3, 4.4, 3.4, 4.5, 3.4, 7.1, 6.4, 5.2, 7.0, 7.3, 8.1, 5.8, 5.9, 6.4, 7.5, 7.8, 6.3, 7.2, 5.6, 7.2, 8.0, 8.5, 6.8, 7.3, 5.5, 7.3, 6.3, 5.1, 6.6, 6.1, 7.5, 7.0, 7.2, 5.3, 8.7, 3.4, 5.4, 7.8, 6.7, 4.7, 6.3, 7.4, 6.1, 7.5, 6.3, 6.3, 6.8, 7.8, 6.9, 8.0, 7.8, 7.4, 6.1, 4.3, 3.5, 7.2, 4.7, 7.3, 7.9, 5.1, 7.2, 5.4, 3.7, 7.4, 7.1, 6.8, 8.2, 7.0, 7.4, 6.7, 5.7, 9.1, 7.6, 7.2, 7.5, 6.8, 6.9, 7.9, 7.6, 6.7, 5.8, 6.5, 7.2, 6.9, 5.5, 6.5, 6.2, 6.7, 5.7, 8.6, 6.5, 6.3, 4.3, 6.1, 6.0, 5.8, 6.7, 6.7, 7.6, 5.1, 6.8, 6.8, 6.8, 6.3, 7.1, 2.8, 8.2, 3.1, 7.0, 3.3, 3.6, 7.7, 6.7, 5.5, 6.6, 4.8, 5.5, 6.3, 6.9, 6.5, 8.2, 7.1, 7.3, 8.1, 7.2, 7.4, 6.5, 5.7, 6.1, 7.7, 8.7, 4.3, 6.2, 3.3, 2.7, 5.2, 8.2, 6.1, 8.0, 5.5, 5.7, 3.7, 7.1, 7.8, 7.3, 4.1, 7.2, 7.7, 7.1, 7.6, 7.0, 5.5, 7.4, 7.7, 7.2, 7.8, 6.6, 6.0, 8.4, 6.5, 8.9, 7.9, 6.0, 6.1, 7.4, 6.2, 5.6, 7.2, 6.1, 3.8, 7.1, 4.5, 3.8, 6.2, 6.6, 4.6, 4.2, 6.8, 7.7, 7.1, 5.9, 4.7, 7.0, 6.9, 6.1, 7.6, 3.0, 2.6, 8.6, 6.1, 7.5, 6.7, 8.1, 4.9, 6.8, 6.8, 5.7, 8.3, 6.6, 7.3, 5.0, 7.0, 3.4, 5.9, 6.0, 7.4, 7.4, 4.2, 6.2, 6.2, 7.5, 7.2, 7.2, 5.4, 7.0, 7.2, 7.9, 6.8, 6.7, 7.5, 6.8, 6.9, 6.8, 7.2, 7.4, 5.6, 6.8, 7.2, 7.7, 7.0, 7.2, 6.4, 7.2, 7.2, 6.2, 6.9, 6.2, 6.9, 7.0, 6.7, 3.6, 6.3, 7.4, 7.4, 7.3, 6.1, 6.7, 8.2, 7.7, 7.3, 7.4, 5.7, 7.6, 6.8, 5.6, 4.8, 6.4, 6.8, 6.1, 5.2, 6.9, 6.0, 6.3, 6.1, 5.5, 6.9, 5.6, 1.9, 4.1, 5.4, 6.8, 7.0, 6.7, 5.8, 6.2, 2.8, 7.3, 5.8, 6.5, 6.1, 5.1, 2.2, 7.2, 5.7, 3.4, 3.8, 4.7, 5.6, 3.9, 5.4, 5.2, 3.5, 5.3, 7.0, 7.1, 5.5, 5.9, 6.0, 4.8, 7.1, 8.2, 5.7, 7.9, 7.3, 7.1, 6.4, 5.9, 7.5, 6.4, 7.4, 7.3, 6.5, 7.2, 6.7, 7.1, 6.0, 6.7, 5.6, 7.0, 4.9, 3.2, 8.4, 6.9, 7.5, 7.2, 7.2, 8.0, 7.4, 7.2, 6.5, 7.2, 4.2, 5.1, 6.4, 6.8, 6.2, 7.5, 7.7, 6.9, 7.0, 7.5, 6.3, 5.5, 4.8, 8.1, 6.6, 5.2, 5.6, 3.1, 8.1, 8.3, 7.1, 8.1, 7.2, 6.3, 4.0, 7.2, 5.3, 7.2, 6.5, 6.5, 4.9, 5.2, 7.4, 7.4, 5.4, 3.9, 5.3, 7.8, 6.4, 8.1, 6.5, 5.6, 5.6, 6.6, 6.3, 7.7, 7.0, 8.0, 7.2, 4.5, 7.7, 7.2, 6.1, 6.4, 6.5, 7.0, 6.1, 5.7, 5.4, 5.9, 7.5, 7.7, 7.1, 7.4, 7.6, 6.4, 7.4, 6.8, 6.5, 6.0, 7.3, 7.3, 6.5, 6.0, 5.3, 6.6, 6.1, 7.1, 8.7, 8.4, 5.8, 6.2, 5.8, 6.7, 5.7, 6.1, 6.4, 5.0, 6.5, 4.6, 7.7, 7.3, 6.6, 6.4, 5.8, 7.2, 7.2, 3.5, 7.5, 2.2, 3.3, 6.6, 6.9, 4.0, 7.4, 8.3, 5.7, 6.8, 5.2, 6.4, 6.2, 5.9, 7.7, 4.3, 7.1, 6.2, 6.8, 7.7, 8.2, 7.5, 7.6, 4.1, 6.9, 7.1, 6.3, 7.7, 8.3, 7.1, 4.7, 7.7, 7.2, 5.1, 5.4, 6.9, 8.2, 6.1, 6.1, 6.9, 5.8, 6.0, 8.2, 8.0, 7.0, 6.3, 7.6, 6.1, 7.2, 7.8, 4.7, 7.5, 6.7, 3.4, 7.9, 8.9, 6.9, 8.2, 7.3, 8.0, 6.7, 6.6, 6.9, 7.1, 5.6, 6.7, 7.1, 5.2, 7.7, 7.5, 7.6, 8.1, 5.5, 6.6, 3.2, 7.4, 6.6, 6.2, 4.8, 4.5, 7.2, 4.3, 4.5, 6.4, 6.4, 7.3, 6.9, 4.3, 7.2, 6.5, 6.6, 6.7, 4.3, 7.3, 6.4, 7.0, 5.5, 6.7, 4.3, 6.1, 6.8, 3.9, 8.5, 6.9, 7.3, 6.9, 6.3, 2.5, 5.7, 7.0, 6.2, 6.9, 4.5, 7.8, 4.4, 7.4, 6.6, 8.0, 8.3, 6.5, 7.1, 7.1, 4.0, 7.5, 7.0, 4.0, 6.7, 7.2, 7.0, 7.4, 8.0, 6.5, 7.2, 6.4, 6.5, 6.8, 6.9, 7.5, 7.1, 5.1, 6.2, 3.9, 6.0, 6.8, 7.4, 8.1, 6.5, 8.0, 7.7, 7.2, 5.4, 6.7, 6.3, 8.1, 8.5, 7.7, 6.5, 8.7, 6.5, 7.0, 5.8, 5.5, 7.0, 6.3, 7.9, 7.3, 7.4, 5.4, 7.1, 7.5, 8.4, 7.0, 5.3, 7.1, 7.5, 6.1, 7.2, 6.7, 8.2, 6.6, 6.7, 5.1, 7.0, 7.0, 8.0, 7.4, 5.4, 5.7, 6.7, 4.2, 7.4, 4.8, 7.0, 7.3, 5.8, 7.0, 3.2, 6.8, 7.7, 5.6, 7.1, 3.6, 6.8, 7.6, 6.6, 8.3, 7.5, 5.4, 5.3, 4.5, 7.3, 5.6, 5.6, 4.1, 6.8, 6.3, 5.8, 6.6, 6.7, 6.4, 6.3, 3.4, 4.7, 6.0, 7.3, 7.9, 6.1, 7.4, 6.6, 5.5, 7.5, 7.6, 5.0, 3.2, 8.2, 3.7, 6.3, 4.1, 6.9, 5.4, 6.5, 7.8, 6.7, 6.4, 7.3, 5.7, 7.0, 6.3, 7.1, 4.8, 3.3, 6.9, 4.6, 3.0, 6.6, 7.4, 6.2, 4.0, 6.1, 6.9, 7.5, 6.7, 7.4, 6.1, 5.4, 6.4, 7.0, 6.3, 6.9, 7.8, 6.4, 7.7, 7.5, 6.3, 6.3, 6.6]\n"
     ]
    }
   ],
   "source": [
    "print(score)"
   ]
  },
  {
   "cell_type": "code",
   "execution_count": 58,
   "metadata": {},
   "outputs": [],
   "source": [
    "data = df.values"
   ]
  },
  {
   "cell_type": "code",
   "execution_count": 59,
   "metadata": {},
   "outputs": [
    {
     "name": "stdout",
     "output_type": "stream",
     "text": [
      "(5043, 28)\n"
     ]
    }
   ],
   "source": [
    "print(data.shape)"
   ]
  },
  {
   "cell_type": "code",
   "execution_count": 65,
   "metadata": {},
   "outputs": [
    {
     "name": "stdout",
     "output_type": "stream",
     "text": [
      "<class 'numpy.ndarray'>\n"
     ]
    }
   ],
   "source": [
    "print(type(data))"
   ]
  },
  {
   "cell_type": "code",
   "execution_count": 70,
   "metadata": {},
   "outputs": [],
   "source": [
    "titles = df.get('movie_title')\n",
    "# print(title)"
   ]
  },
  {
   "cell_type": "code",
   "execution_count": 88,
   "metadata": {},
   "outputs": [
    {
     "name": "stdout",
     "output_type": "stream",
     "text": [
      "{7: 138, 41: 17, 8: 226, 22: 138, 55: 3, 12: 330, 13: 306, 24: 85, 39: 13, 35: 30, 17: 239, 18: 219, 43: 8, 16: 264, 44: 9, 15: 284, 42: 14, 23: 109, 11: 328, 36: 21, 19: 213, 10: 294, 27: 69, 20: 176, 32: 43, 26: 74, 25: 82, 14: 274, 21: 138, 31: 47, 51: 5, 6: 139, 5: 91, 63: 1, 3: 8, 9: 267, 38: 24, 28: 51, 29: 65, 34: 31, 57: 1, 47: 4, 4: 35, 37: 18, 48: 4, 46: 7, 40: 14, 45: 4, 49: 4, 50: 3, 30: 36, 33: 21, 2: 5, 59: 2, 60: 1, 56: 1, 84: 1, 54: 2, 87: 1, 53: 2, 72: 1, 69: 1, 80: 1, 67: 1}\n"
     ]
    }
   ],
   "source": [
    "# plot of lenhgt vs freq with length\n",
    "freq_title = {}\n",
    "for t in titles:\n",
    "    length = len(t)\n",
    "    try:\n",
    "        freq_title[length] +=1\n",
    "    except:\n",
    "        freq_title[length]=1\n",
    "print(freq_title)"
   ]
  },
  {
   "cell_type": "code",
   "execution_count": 93,
   "metadata": {},
   "outputs": [],
   "source": [
    "x = np.array(list(freq_title.keys()))\n",
    "y = np.array(list(freq_title.values()))"
   ]
  },
  {
   "cell_type": "code",
   "execution_count": 95,
   "metadata": {},
   "outputs": [
    {
     "data": {
      "image/png": "[encoded data removed]",
      "text/plain": [
       "<Figure size 432x288 with 1 Axes>"
      ]
     },
     "metadata": {
      "needs_background": "light"
     },
     "output_type": "display_data"
    }
   ],
   "source": [
    "plt.scatter(x,y)\n",
    "plt.show()"
   ]
  },
  {
   "cell_type": "code",
   "execution_count": null,
   "metadata": {},
   "outputs": [],
   "source": []
  }
 ],
 "metadata": {
  "kernelspec": {
   "display_name": "Python 3",
   "language": "python",
   "name": "python3"
  },
  "language_info": {
   "codemirror_mode": {
    "name": "ipython",
    "version": 3
   },
   "file_extension": ".py",
   "mimetype": "text/x-python",
   "name": "python",
   "nbconvert_exporter": "python",
   "pygments_lexer": "ipython3",
   "version": "3.6.8"
  }
 },
 "nbformat": 4,
 "nbformat_minor": 2
}
